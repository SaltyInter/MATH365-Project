{
 "cells": [
  {
   "cell_type": "code",
   "execution_count": null,
   "metadata": {},
   "outputs": [],
   "source": [
    "# Import libs\n",
    "import numpy as np\n",
    "import matplotlib.pyplot as plt"
   ]
  },
  {
   "cell_type": "code",
   "execution_count": null,
   "metadata": {},
   "outputs": [],
   "source": [
    "def solve_system(A, B, C, D):\n",
    "    # Step (a): Rewrite as a linear algebraic system\n",
    "    A_matrix = np.array([[A, -B], [C, -D]])\n",
    "    \n",
    "    # Step (b): Solve the eigenvalue problem\n",
    "    eig_vals, eig_vecs = np.linalg.eig(A_matrix)\n",
    "    \n",
    "    # Step (c): Find the eigenvectors\n",
    "    u1 = eig_vecs[:, 0]\n",
    "    u2 = eig_vecs[:, 1]\n",
    "    \n",
    "    # Step (d): Find the solution of the system\n",
    "    C1 = np.array([1, 1])\n",
    "    # Need to check if it will throw an exception\n",
    "    try:\n",
    "        C2 = np.linalg.solve(np.array([u1, u2]).T, C1)\n",
    "    except np.linalg.LinAlgError:\n",
    "        return None, None\n",
    "    \n",
    "    # Get lambda into x and y\n",
    "    x = lambda t: C2[0]*np.exp(eig_vals[0]*t)*u1[0] + C2[1]*np.exp(eig_vals[1]*t)*u2[0]\n",
    "    y = lambda t: C2[0]*np.exp(eig_vals[0]*t)*u1[1] + C2[1]*np.exp(eig_vals[1]*t)*u2[1]\n",
    "    \n",
    "    # Return to plot later\n",
    "    return x, y"
   ]
  },
  {
   "cell_type": "code",
   "execution_count": null,
   "metadata": {},
   "outputs": [],
   "source": [
    "# Step (e): Investigate all possible solutions for different values of parameters\n",
    "ts = np.linspace(0, 10, 1000)\n",
    "a = 3 # set the value of a\n",
    "for b in np.linspace(0, 5, 6):\n",
    "    for c in np.linspace(0, 5, 6):\n",
    "        for d in np.linspace(0, 5, 6):\n",
    "            x, y = solve_system(a, b, c, d)\n",
    "            if x is not None and y is not None:\n",
    "                x_vals = [x(t) for t in ts]\n",
    "                y_vals = [y(t) for t in ts]\n",
    "\n",
    "                # Output solutions for a plot\n",
    "                plt.plot(x_vals, y_vals)\n",
    "                plt.title(f'Solutions for Different Parameter Values \\n A={a}, B={b}, C={c}, D={d}')\n",
    "                plt.xlabel('x(t) prey')\n",
    "                plt.ylabel('y(t) pred')\n",
    "                plt.show()\n",
    "\n",
    "                # plot of prey and predator populations\n",
    "                prey_vals = [x(t) for t in ts]\n",
    "                pred_vals = [y(t) for t in ts]\n",
    "                plt.plot(ts, prey_vals, label='prey')\n",
    "                plt.plot(ts, pred_vals, label='predator')\n",
    "                plt.title(f'Population vs Time \\n A={a}, B={b}, C={c}, D={d}')\n",
    "                plt.xlabel('t')\n",
    "                plt.ylabel('Population')\n",
    "                plt.legend()\n",
    "                plt.show()"
   ]
  }
 ],
 "metadata": {
  "language_info": {
   "name": "python"
  },
  "orig_nbformat": 4
 },
 "nbformat": 4,
 "nbformat_minor": 2
}
